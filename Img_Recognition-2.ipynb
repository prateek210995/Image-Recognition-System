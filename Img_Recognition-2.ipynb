{
 "cells": [
  {
   "cell_type": "code",
   "execution_count": 1,
   "metadata": {},
   "outputs": [
    {
     "name": "stderr",
     "output_type": "stream",
     "text": [
      "Using TensorFlow backend.\n"
     ]
    }
   ],
   "source": [
    "import keras"
   ]
  },
  {
   "cell_type": "code",
   "execution_count": 2,
   "metadata": {},
   "outputs": [],
   "source": [
    "from keras.models import Sequential\n",
    "from keras.datasets import cifar10\n",
    "from keras.utils import to_categorical\n",
    "from keras.layers import Dense, Dropout, Flatten, Conv2D, MaxPooling2D\n",
    "from pathlib import Path"
   ]
  },
  {
   "cell_type": "markdown",
   "metadata": {},
   "source": [
    "Load the dataset"
   ]
  },
  {
   "cell_type": "code",
   "execution_count": 3,
   "metadata": {},
   "outputs": [],
   "source": [
    "(x_train, y_train), (x_test, y_test) = cifar10.load_data()"
   ]
  },
  {
   "cell_type": "markdown",
   "metadata": {},
   "source": [
    "Normalize the data by converting to integer to floating point and range from 0 - 1"
   ]
  },
  {
   "cell_type": "code",
   "execution_count": 4,
   "metadata": {},
   "outputs": [],
   "source": [
    "x_train = x_train.astype(\"float32\")/255\n",
    "x_test = x_test.astype(\"float32\")/255\n",
    "y_train = to_categorical(y_train, num_classes=10) # to  convert single number to array of 10 classes [0,0,1,0,..]\n",
    "y_test = to_categorical(y_test, num_classes=10)"
   ]
  },
  {
   "cell_type": "markdown",
   "metadata": {},
   "source": [
    "Create model"
   ]
  },
  {
   "cell_type": "code",
   "execution_count": 5,
   "metadata": {},
   "outputs": [],
   "source": [
    "nnmodel = Sequential()"
   ]
  },
  {
   "cell_type": "code",
   "execution_count": 6,
   "metadata": {},
   "outputs": [],
   "source": [
    "nnmodel.add(Conv2D(128, (3, 3), activation=\"relu\", padding=\"same\", input_shape=(32, 32, 3)))\n",
    "nnmodel.add(Conv2D(128, (3, 3), activation=\"relu\"))\n",
    "nnmodel.add(MaxPooling2D(pool_size=(2, 2)))\n",
    "nnmodel.add(Dropout(0.25))\n",
    "\n",
    "nnmodel.add(Conv2D(256, (3, 3), activation=\"relu\", padding=\"same\"))\n",
    "nnmodel.add(Conv2D(256, (3, 3), activation=\"relu\"))\n",
    "nnmodel.add(MaxPooling2D(pool_size=(2, 2)))\n",
    "nnmodel.add(Dropout(0.25))\n",
    "\n",
    "nnmodel.add(Flatten())\n",
    "\n",
    "nnmodel.add(Dense(512, activation=\"relu\"))\n",
    "nnmodel.add(Dropout(0.50))\n",
    "nnmodel.add(Dense(10, activation=\"softmax\"))"
   ]
  },
  {
   "cell_type": "code",
   "execution_count": 7,
   "metadata": {},
   "outputs": [],
   "source": [
    "nnmodel.compile(optimizer=\"adam\", loss=\"categorical_crossentropy\", metrics=[\"accuracy\"])"
   ]
  },
  {
   "cell_type": "code",
   "execution_count": 8,
   "metadata": {
    "scrolled": true
   },
   "outputs": [
    {
     "name": "stdout",
     "output_type": "stream",
     "text": [
      "Model: \"sequential_1\"\n",
      "_________________________________________________________________\n",
      "Layer (type)                 Output Shape              Param #   \n",
      "=================================================================\n",
      "conv2d_1 (Conv2D)            (None, 32, 32, 128)       3584      \n",
      "_________________________________________________________________\n",
      "conv2d_2 (Conv2D)            (None, 30, 30, 128)       147584    \n",
      "_________________________________________________________________\n",
      "max_pooling2d_1 (MaxPooling2 (None, 15, 15, 128)       0         \n",
      "_________________________________________________________________\n",
      "dropout_1 (Dropout)          (None, 15, 15, 128)       0         \n",
      "_________________________________________________________________\n",
      "conv2d_3 (Conv2D)            (None, 15, 15, 256)       295168    \n",
      "_________________________________________________________________\n",
      "conv2d_4 (Conv2D)            (None, 13, 13, 256)       590080    \n",
      "_________________________________________________________________\n",
      "max_pooling2d_2 (MaxPooling2 (None, 6, 6, 256)         0         \n",
      "_________________________________________________________________\n",
      "dropout_2 (Dropout)          (None, 6, 6, 256)         0         \n",
      "_________________________________________________________________\n",
      "flatten_1 (Flatten)          (None, 9216)              0         \n",
      "_________________________________________________________________\n",
      "dense_1 (Dense)              (None, 512)               4719104   \n",
      "_________________________________________________________________\n",
      "dropout_3 (Dropout)          (None, 512)               0         \n",
      "_________________________________________________________________\n",
      "dense_2 (Dense)              (None, 10)                5130      \n",
      "=================================================================\n",
      "Total params: 5,760,650\n",
      "Trainable params: 5,760,650\n",
      "Non-trainable params: 0\n",
      "_________________________________________________________________\n"
     ]
    }
   ],
   "source": [
    "nnmodel.summary()"
   ]
  },
  {
   "cell_type": "markdown",
   "metadata": {},
   "source": [
    "Train the model"
   ]
  },
  {
   "cell_type": "code",
   "execution_count": 9,
   "metadata": {
    "scrolled": true
   },
   "outputs": [
    {
     "name": "stdout",
     "output_type": "stream",
     "text": [
      "Train on 50000 samples, validate on 10000 samples\n",
      "Epoch 1/10\n",
      "50000/50000 [==============================] - 1594s 32ms/step - loss: 1.5538 - accuracy: 0.4302 - val_loss: 1.1002 - val_accuracy: 0.6093\n",
      "Epoch 2/10\n",
      "50000/50000 [==============================] - 805s 16ms/step - loss: 1.0961 - accuracy: 0.6105 - val_loss: 0.9593 - val_accuracy: 0.6657\n",
      "Epoch 3/10\n",
      "50000/50000 [==============================] - 821s 16ms/step - loss: 0.9218 - accuracy: 0.6747 - val_loss: 0.8367 - val_accuracy: 0.7075\n",
      "Epoch 4/10\n",
      "50000/50000 [==============================] - 813s 16ms/step - loss: 0.8054 - accuracy: 0.7177 - val_loss: 0.7703 - val_accuracy: 0.7310\n",
      "Epoch 5/10\n",
      "50000/50000 [==============================] - 817s 16ms/step - loss: 0.7254 - accuracy: 0.7444 - val_loss: 0.7338 - val_accuracy: 0.7460\n",
      "Epoch 6/10\n",
      "50000/50000 [==============================] - 843s 17ms/step - loss: 0.6677 - accuracy: 0.7675 - val_loss: 0.6631 - val_accuracy: 0.7728\n",
      "Epoch 7/10\n",
      "50000/50000 [==============================] - 797s 16ms/step - loss: 0.6152 - accuracy: 0.7828 - val_loss: 0.6304 - val_accuracy: 0.7843\n",
      "Epoch 8/10\n",
      "50000/50000 [==============================] - 826s 17ms/step - loss: 0.5763 - accuracy: 0.7969 - val_loss: 0.6443 - val_accuracy: 0.7791\n",
      "Epoch 9/10\n",
      "50000/50000 [==============================] - 784s 16ms/step - loss: 0.5435 - accuracy: 0.8099 - val_loss: 0.6262 - val_accuracy: 0.7871\n",
      "Epoch 10/10\n",
      "50000/50000 [==============================] - 804s 16ms/step - loss: 0.5100 - accuracy: 0.8200 - val_loss: 0.6460 - val_accuracy: 0.7850\n"
     ]
    },
    {
     "data": {
      "text/plain": [
       "<keras.callbacks.callbacks.History at 0x7f748e9f7610>"
      ]
     },
     "execution_count": 9,
     "metadata": {},
     "output_type": "execute_result"
    }
   ],
   "source": [
    "nnmodel.fit(x_train, y_train, validation_data=(x_test, y_test), batch_size=64, epochs=10, shuffle=True)"
   ]
  },
  {
   "cell_type": "markdown",
   "metadata": {},
   "source": [
    "Save the structure of the model"
   ]
  },
  {
   "cell_type": "code",
   "execution_count": 10,
   "metadata": {},
   "outputs": [
    {
     "data": {
      "text/plain": [
       "4559"
      ]
     },
     "execution_count": 10,
     "metadata": {},
     "output_type": "execute_result"
    }
   ],
   "source": [
    "struct_model = nnmodel.to_json()\n",
    "p = Path(\"struct_model.json\")\n",
    "p.write_text(struct_model)"
   ]
  },
  {
   "cell_type": "markdown",
   "metadata": {},
   "source": [
    "Save the weights of the model"
   ]
  },
  {
   "cell_type": "code",
   "execution_count": 11,
   "metadata": {},
   "outputs": [],
   "source": [
    "nnmodel.save_weights(\"weights_model.h5\")"
   ]
  },
  {
   "cell_type": "code",
   "execution_count": null,
   "metadata": {},
   "outputs": [],
   "source": []
  }
 ],
 "metadata": {
  "kernelspec": {
   "display_name": "Python 3",
   "language": "python",
   "name": "python3"
  },
  "language_info": {
   "codemirror_mode": {
    "name": "ipython",
    "version": 3
   },
   "file_extension": ".py",
   "mimetype": "text/x-python",
   "name": "python",
   "nbconvert_exporter": "python",
   "pygments_lexer": "ipython3",
   "version": "3.8.2"
  }
 },
 "nbformat": 4,
 "nbformat_minor": 4
}
