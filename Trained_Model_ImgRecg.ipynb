{
 "cells": [
  {
   "cell_type": "code",
   "execution_count": 1,
   "metadata": {},
   "outputs": [
    {
     "name": "stderr",
     "output_type": "stream",
     "text": [
      "Using TensorFlow backend.\n"
     ]
    }
   ],
   "source": [
    "import keras"
   ]
  },
  {
   "cell_type": "code",
   "execution_count": 2,
   "metadata": {},
   "outputs": [],
   "source": [
    "import numpy as np\n",
    "from keras.models import model_from_json\n",
    "from keras.preprocessing import image\n",
    "from pathlib import Path"
   ]
  },
  {
   "cell_type": "code",
   "execution_count": 3,
   "metadata": {},
   "outputs": [],
   "source": [
    "class_label = {0: \"Plane\",1: \"Car\",2: \"Bird\",3: \"Cat\",4: \"Deer\",5: \"Dog\",\n",
    "    6: \"Frog\",7: \"Horse\",8: \"Boat\",9: \"Truck\"}"
   ]
  },
  {
   "cell_type": "code",
   "execution_count": 4,
   "metadata": {},
   "outputs": [],
   "source": [
    "#Load the model structure that is saved\n",
    "p = Path(\"struct_model.json\")\n",
    "model_struct = p.read_text()"
   ]
  },
  {
   "cell_type": "code",
   "execution_count": 5,
   "metadata": {},
   "outputs": [],
   "source": [
    "#Model\n",
    "nnmodel = model_from_json(model_struct)\n",
    "nnmodel.load_weights(\"weights_model.h5\") #Load the weights of the model"
   ]
  },
  {
   "cell_type": "code",
   "execution_count": 9,
   "metadata": {},
   "outputs": [],
   "source": [
    "im = image.load_img(\"1.png\", target_size=(32, 32)) #Load the image\n",
    "\n",
    "test_image = image.img_to_array(im)/255\n",
    "image_list = np.expand_dims(test_image, axis=0)\n",
    "\n",
    "result = nnmodel.predict(image_list) #Predict the image\n",
    "\n",
    "first_ind = result[0]\n",
    "hig_classindex = int(np.argmax(first_ind))\n",
    "likely_label = first_ind[hig_classindex]\n",
    "label = class_label[hig_classindex]"
   ]
  },
  {
   "cell_type": "code",
   "execution_count": 10,
   "metadata": {},
   "outputs": [
    {
     "name": "stdout",
     "output_type": "stream",
     "text": [
      "This is a Boat - Accuracy: 0.9999831914901733\n"
     ]
    }
   ],
   "source": [
    "print(\"This is a {} - Accuracy: {}\".format(label,likely_label))"
   ]
  },
  {
   "cell_type": "code",
   "execution_count": null,
   "metadata": {},
   "outputs": [],
   "source": []
  }
 ],
 "metadata": {
  "kernelspec": {
   "display_name": "Python 3",
   "language": "python",
   "name": "python3"
  },
  "language_info": {
   "codemirror_mode": {
    "name": "ipython",
    "version": 3
   },
   "file_extension": ".py",
   "mimetype": "text/x-python",
   "name": "python",
   "nbconvert_exporter": "python",
   "pygments_lexer": "ipython3",
   "version": "3.8.2"
  }
 },
 "nbformat": 4,
 "nbformat_minor": 4
}
